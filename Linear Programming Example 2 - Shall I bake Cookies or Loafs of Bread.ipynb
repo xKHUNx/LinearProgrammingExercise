{
 "cells": [
  {
   "cell_type": "markdown",
   "metadata": {},
   "source": [
    "# Linear Programming Example #2\n",
    "## Shall I bake Cookies or Loafs of Bread?\n",
    "(https://medium.com/@QuarizmiAdTech/how-to-start-modeling-with-integer-programming-4210f3990f95)"
   ]
  },
  {
   "cell_type": "markdown",
   "metadata": {},
   "source": [
    "In the following lines, you can find a very illustrative example presenting the role played by each element described above; the variables, constraints, and the objective function.\n",
    "Let us assume that we have a bakery with an oven. In that oven we can cook both, bread or cookies. Unfortunately, we have a limited space, we cannot use more than 8 square feet. Each of the recipes requires a certain amount of resources. In particular:\n",
    "\n",
    "> - Cooking a loaf of bread requires $\\$$1 of resources (energy and ingredients) as well as 0.6 square feet in the oven. We can sell each loaf of bread generating a profit of $\\$$0.4.\n",
    "- Cooking a cookie requires $\\$$2 of resources (energy and ingredients) as well as 0.8 square feet in the oven. We can sell each cookie generating a profit of $\\$$0.7.\n",
    "\n",
    "Finally, we cannot excess a daily budget of $15 for all the expenses."
   ]
  },
  {
   "cell_type": "code",
   "execution_count": 1,
   "metadata": {},
   "outputs": [],
   "source": [
    "# !conda install -c conda-forge pulp"
   ]
  },
  {
   "cell_type": "code",
   "execution_count": 2,
   "metadata": {},
   "outputs": [],
   "source": [
    "from pulp import *"
   ]
  },
  {
   "cell_type": "code",
   "execution_count": 3,
   "metadata": {},
   "outputs": [],
   "source": [
    "prob = LpProblem(\"Cookies or Bread?\", LpMaximize)"
   ]
  },
  {
   "cell_type": "code",
   "execution_count": 4,
   "metadata": {},
   "outputs": [],
   "source": [
    "# Food index\n",
    "food_items = ['bread', 'cookie']\n",
    "\n",
    "# Cost\n",
    "cost = {\n",
    "    'bread': 1,\n",
    "    'cookie': 2\n",
    "}\n",
    "\n",
    "# Space\n",
    "space = {\n",
    "    'bread': 0.6,\n",
    "    'cookie': 0.8\n",
    "}\n",
    "\n",
    "# Profit\n",
    "profit = {\n",
    "    'bread': 0.4,\n",
    "    'cookie': 0.7\n",
    "}"
   ]
  },
  {
   "cell_type": "code",
   "execution_count": 5,
   "metadata": {},
   "outputs": [],
   "source": [
    "food_vars = LpVariable.dicts(\"Food\", food_items, lowBound=0, cat='Integer')"
   ]
  },
  {
   "cell_type": "markdown",
   "metadata": {},
   "source": [
    "## Set objective functiom"
   ]
  },
  {
   "cell_type": "code",
   "execution_count": 6,
   "metadata": {},
   "outputs": [],
   "source": [
    "# Maximize profit\n",
    "prob += lpSum([profit[i]*food_vars[i] for i in food_items])"
   ]
  },
  {
   "cell_type": "markdown",
   "metadata": {},
   "source": [
    "## Set constraint"
   ]
  },
  {
   "cell_type": "code",
   "execution_count": 7,
   "metadata": {},
   "outputs": [],
   "source": [
    "# Space cannot exceed 8 sq ft.\n",
    "prob += lpSum([space[i]*food_vars[i] for i in food_items]) <= 8\n",
    "\n",
    "# Daily cost must not exceed $15\n",
    "prob += lpSum([cost[i]*food_vars[i] for i in food_items]) <= 15"
   ]
  },
  {
   "cell_type": "markdown",
   "metadata": {},
   "source": [
    "## Solve"
   ]
  },
  {
   "cell_type": "code",
   "execution_count": 8,
   "metadata": {},
   "outputs": [
    {
     "data": {
      "text/plain": [
       "1"
      ]
     },
     "execution_count": 8,
     "metadata": {},
     "output_type": "execute_result"
    }
   ],
   "source": [
    "prob.solve()"
   ]
  },
  {
   "cell_type": "code",
   "execution_count": 9,
   "metadata": {},
   "outputs": [
    {
     "name": "stdout",
     "output_type": "stream",
     "text": [
      "Status: Optimal\n"
     ]
    }
   ],
   "source": [
    "# The status of the solution is printed to the screen\n",
    "print(\"Status:\", LpStatus[prob.status])"
   ]
  },
  {
   "cell_type": "code",
   "execution_count": 10,
   "metadata": {},
   "outputs": [
    {
     "name": "stdout",
     "output_type": "stream",
     "text": [
      "Food_bread = 9.0\n",
      "Food_cookie = 3.0\n"
     ]
    }
   ],
   "source": [
    "for v in prob.variables():\n",
    "    if v.varValue>0:\n",
    "        print(v.name, \"=\", v.varValue)"
   ]
  },
  {
   "cell_type": "markdown",
   "metadata": {},
   "source": [
    "### We get that the optimal solution is:\n",
    "- Total number of loafs of bread, b = 9.\n",
    "- Total number of cookies, c = 3."
   ]
  }
 ],
 "metadata": {
  "kernelspec": {
   "display_name": "Python 3",
   "language": "python",
   "name": "python3"
  },
  "language_info": {
   "codemirror_mode": {
    "name": "ipython",
    "version": 3
   },
   "file_extension": ".py",
   "mimetype": "text/x-python",
   "name": "python",
   "nbconvert_exporter": "python",
   "pygments_lexer": "ipython3",
   "version": "3.7.5"
  }
 },
 "nbformat": 4,
 "nbformat_minor": 4
}
